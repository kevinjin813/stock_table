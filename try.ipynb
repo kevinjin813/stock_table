{
 "cells": [
  {
   "cell_type": "code",
   "execution_count": 8,
   "metadata": {
    "collapsed": true
   },
   "outputs": [],
   "source": [
    "import akshare as ak\n",
    "import pandas as pd\n",
    "from sqlalchemy import create_engine\n",
    "from datetime import datetime\n",
    "\n",
    "import db\n",
    "\n",
    "# code_list = ak.stock_info_a_code_name()\n",
    "df = pd.DataFrame(columns=['total_val', 'stock_id', 'category', 'stock_name'])\n",
    "# print(code_list['code'][0])\n",
    "stock_individual_info_em_df = ak.stock_individual_info_em(symbol=\"000001\")\n",
    "df_transposed = stock_individual_info_em_df.set_index('item').T.reset_index()\n",
    "df_transposed = df_transposed.rename(columns={\n",
    "    '总市值': 'total_val',\n",
    "    '行业': 'category',\n",
    "    '股票代码': 'stock_id',\n",
    "    '股票简称': 'stock_name'\n",
    "})\n",
    "\n",
    "df = pd.concat([df, df_transposed[['total_val', 'stock_id', 'category', 'stock_name']]], ignore_index=True)\n",
    "\n",
    "\n",
    "db_username = 'root'\n",
    "db_password = 'qwertyui'\n",
    "db_host = 'localhost'  # 或者其他主机地址\n",
    "db_port = '3306'\n",
    "db_name = 'schemas'\n",
    "table_name = 'stock_info'  # 要创建或写入的表的名称\n",
    "\n",
    "# 创建数据库引擎\n",
    "engine = create_engine(f'mysql+pymysql://{db_username}:{db_password}@{db_host}:{db_port}/{db_name}')\n",
    "\n",
    "# 将数据写入 MySQL\n",
    "df.to_sql(table_name, engine, if_exists='replace', index=False)\n",
    "\n",
    "# 关闭数据库连接\n",
    "engine.dispose()"
   ]
  },
  {
   "cell_type": "code",
   "execution_count": 26,
   "outputs": [
    {
     "name": "stdout",
     "output_type": "stream",
     "text": [
      "2023-11-27\n",
      "                    date  open_price  close_price  high_price  low_price  \\\n",
      "964  2023-11-27 09:30:00       10.09        10.09       10.09      10.09   \n",
      "965  2023-11-27 09:31:00       10.09        10.05       10.09      10.05   \n",
      "966  2023-11-27 09:32:00       10.06        10.05       10.06      10.04   \n",
      "967  2023-11-27 09:33:00       10.05        10.03       10.05      10.02   \n",
      "968  2023-11-27 09:34:00       10.02        10.02       10.03      10.01   \n",
      "...                  ...         ...          ...         ...        ...   \n",
      "1043 2023-11-27 10:49:00        9.99         9.99        9.99       9.98   \n",
      "1044 2023-11-27 10:50:00        9.99         9.99        9.99       9.98   \n",
      "1045 2023-11-27 10:51:00        9.98         9.99        9.99       9.98   \n",
      "1046 2023-11-27 10:52:00        9.98         9.98        9.99       9.98   \n",
      "1047 2023-11-27 10:53:00        9.98         9.98        9.99       9.98   \n",
      "\n",
      "      volume    turnover  now_price  \n",
      "964     7353   7419177.0     10.090  \n",
      "965    22436  22595789.0     10.076  \n",
      "966    15575  15653843.0     10.067  \n",
      "967    14830  14877317.0     10.059  \n",
      "968    18775  18811480.0     10.049  \n",
      "...      ...         ...        ...  \n",
      "1043    1270   1267821.0     10.001  \n",
      "1044    1161   1158988.0     10.001  \n",
      "1045    1168   1165833.0     10.001  \n",
      "1046    3986   3978236.0     10.001  \n",
      "1047    1993   1989176.0     10.001  \n",
      "\n",
      "[84 rows x 8 columns]\n"
     ]
    }
   ],
   "source": [
    "import akshare as ak\n",
    "from datetime import datetime\n",
    "import pandas as pd\n",
    "now = datetime.now()\n",
    "data = ak.stock_zh_a_hist_min_em(symbol=\"000001\", period='1', adjust='')\n",
    "data.rename(columns={\n",
    "                '时间': 'date',\n",
    "                '开盘': 'open_price',\n",
    "                '收盘': 'close_price',\n",
    "                '最高': 'high_price',\n",
    "                '最低': 'low_price',\n",
    "                '成交量': 'volume',\n",
    "                '成交额': 'turnover',\n",
    "                '最新价': 'now_price'\n",
    "            }, inplace=True)\n",
    "data['date'] = pd.to_datetime(data['date'])\n",
    "print(now.date())\n",
    "data = data[data['date'].dt.date == now.date()]\n",
    "print(data)"
   ],
   "metadata": {
    "collapsed": false
   }
  },
  {
   "cell_type": "code",
   "execution_count": 39,
   "outputs": [
    {
     "ename": "SyntaxError",
     "evalue": "positional argument follows keyword argument (331269335.py, line 40)",
     "output_type": "error",
     "traceback": [
      "\u001B[0;36m  Cell \u001B[0;32mIn[39], line 40\u001B[0;36m\u001B[0m\n\u001B[0;31m    new_data = StockBid(stock_id=row['stock_id'], ...)\u001B[0m\n\u001B[0m                                                     ^\u001B[0m\n\u001B[0;31mSyntaxError\u001B[0m\u001B[0;31m:\u001B[0m positional argument follows keyword argument\n"
     ]
    }
   ],
   "source": [
    "import pandas as pd\n",
    "import pymysql\n",
    "from datetime import datetime\n",
    "from sqlalchemy.ext.declarative import declarative_base\n",
    "from sqlalchemy.orm import sessionmaker\n",
    "import akshare as ak\n",
    "\n",
    "# 获取数据\n",
    "data = ak.stock_bid_ask_em(symbol=\"000001\")\n",
    "data_transposed = data.set_index('item').T.reset_index()\n",
    "data_transposed['stock_id'] = \"000001\"\n",
    "data_transposed['time'] = datetime.now().timestamp()\n",
    "data_transposed.drop(columns='index', inplace=True)\n",
    "\n",
    "# 数据库配置\n",
    "db_username = 'root'\n",
    "db_password = 'qwertyui'\n",
    "db_host = 'localhost'\n",
    "db_port = '3306'\n",
    "db_name = 'schemas'\n",
    "table_name = 'stock_bid'\n",
    "\n",
    "# 创建数据库连接\n",
    "engine = create_engine(f'mysql+pymysql://{db_username}:{db_password}@{db_host}:{db_port}/{db_name}')\n",
    "\n",
    "# 创建会话\n",
    "Session = sessionmaker(bind=engine)\n",
    "session = Session()\n",
    "\n",
    "# 获取数据并处理\n",
    "data = ak.stock_bid_ask_em(symbol=\"000001\")\n",
    "data_transposed = data.set_index('item').T.reset_index()\n",
    "data_transposed['stock_id'] = \"000001\"\n",
    "data_transposed['time'] = datetime.now().timestamp()\n",
    "data_transposed.drop(columns='index', inplace=True)\n",
    "\n",
    "# 执行删除和插入操作\n",
    "for index, row in data_transposed.iterrows():\n",
    "    # 查询是否存在\n",
    "    existing_data = session.query(StockBid).filter_by(stock_id=row['stock_id']).first()\n",
    "    if existing_data:\n",
    "        session.delete(existing_data)\n",
    "    new_data = StockBid(stock_id=row['stock_id'], ...)\n",
    "    session.add(new_data)\n",
    "\n",
    "session.commit()\n",
    "session.close()"
   ],
   "metadata": {
    "collapsed": false
   }
  },
  {
   "cell_type": "code",
   "execution_count": 41,
   "outputs": [
    {
     "name": "stdout",
     "output_type": "stream",
     "text": [
      "           日期     开盘     收盘     最高     最低    成交量          成交额    振幅   涨跌幅  \\\n",
      "0  2023-11-20  13.63  13.62  13.70  13.49  20731  28155062.00  1.54  0.07   \n",
      "1  2023-11-21  13.62  13.64  13.80  13.60  23623  32355003.24  1.47  0.15   \n",
      "2  2023-11-22  13.59  13.51  13.73  13.50  21763  29578591.88  1.69 -0.95   \n",
      "3  2023-11-23  13.46  13.61  13.64  13.46  19327  26248644.60  1.33  0.74   \n",
      "4  2023-11-24  13.61  13.49  13.64  13.44  18765  25341356.35  1.47 -0.88   \n",
      "\n",
      "    涨跌额   换手率  \n",
      "0  0.01  0.53  \n",
      "1  0.02  0.61  \n",
      "2 -0.13  0.56  \n",
      "3  0.10  0.50  \n",
      "4 -0.12  0.48  \n"
     ]
    }
   ],
   "source": [
    "stock_zh_a_hist_df = ak.stock_zh_a_hist(symbol=\"002838\", period=\"daily\", start_date=\"20231120\", end_date='20231124', adjust=\"\")\n",
    "print(stock_zh_a_hist_df)"
   ],
   "metadata": {
    "collapsed": false
   }
  },
  {
   "cell_type": "code",
   "execution_count": 17,
   "outputs": [
    {
     "name": "stderr",
     "output_type": "stream",
     "text": [
      "Exception in thread Thread-32:\n",
      "Traceback (most recent call last):\n",
      "  File \"/Library/Frameworks/Python.framework/Versions/3.9/lib/python3.9/threading.py\", line 954, in _bootstrap_inner\n",
      "Exception in thread Thread-31:\n",
      "Traceback (most recent call last):\n",
      "  File \"/Library/Frameworks/Python.framework/Versions/3.9/lib/python3.9/threading.py\", line 954, in _bootstrap_inner\n",
      "    self.run()\n",
      "  File \"/Library/Frameworks/Python.framework/Versions/3.9/lib/python3.9/threading.py\", line 892, in run\n",
      "    self.run()\n",
      "  File \"/Library/Frameworks/Python.framework/Versions/3.9/lib/python3.9/threading.py\", line 892, in run\n",
      "    self._target(*self._args, **self._kwargs)\n",
      "  File \"/Users/mac/Downloads/myflask/db.py\", line 73, in get_min_data\n",
      "    with lock:\n",
      "NameError: name 'engine' is not defined\n",
      "    self._target(*self._args, **self._kwargs)\n",
      "  File \"/Users/mac/Downloads/myflask/db.py\", line 73, in get_min_data\n",
      "    with lock:\n",
      "NameError: name 'engine' is not defined\n",
      "Exception in thread Thread-30:\n",
      "Traceback (most recent call last):\n",
      "  File \"/Library/Frameworks/Python.framework/Versions/3.9/lib/python3.9/threading.py\", line 954, in _bootstrap_inner\n",
      "    self.run()\n",
      "  File \"/Library/Frameworks/Python.framework/Versions/3.9/lib/python3.9/threading.py\", line 892, in run\n",
      "    self._target(*self._args, **self._kwargs)\n",
      "  File \"/Users/mac/Downloads/myflask/db.py\", line 73, in get_min_data\n",
      "    with lock:\n",
      "NameError: name 'engine' is not defined\n",
      "Exception in thread Thread-29:\n",
      "Traceback (most recent call last):\n",
      "  File \"/Library/Frameworks/Python.framework/Versions/3.9/lib/python3.9/threading.py\", line 954, in _bootstrap_inner\n",
      "    self.run()\n",
      "  File \"/Library/Frameworks/Python.framework/Versions/3.9/lib/python3.9/threading.py\", line 892, in run\n",
      "    self._target(*self._args, **self._kwargs)\n",
      "  File \"/Users/mac/Downloads/myflask/db.py\", line 73, in get_min_data\n",
      "    with lock:\n",
      "NameError: name 'engine' is not defined\n"
     ]
    }
   ],
   "source": [
    "import db\n",
    "db.fetch_min_data()"
   ],
   "metadata": {
    "collapsed": false
   }
  },
  {
   "cell_type": "code",
   "execution_count": null,
   "outputs": [],
   "source": [
    "import akshare as ak\n",
    "import pandas as pd\n",
    "import threading\n",
    "from sqlalchemy import create_engine\n",
    "from datetime import datetime, timedelta\n",
    "db_username = 'root'\n",
    "db_password = 'qwertyui'\n",
    "db_host = 'localhost'\n",
    "db_port = '3306'\n",
    "db_name = 'schemas'\n",
    "table_name = 'stock_info'\n",
    "\n",
    "# 创建数据库引擎\n",
    "engine = create_engine(f'mysql+pymysql://{db_username}:{db_password}@{db_host}:{db_port}/{db_name}')\n",
    "\n",
    "sql = f\"SELECT * FROM {table_name}\"\n",
    "\n",
    "\n",
    "lock = threading.Lock()\n",
    "monitor = 0\n"
   ],
   "metadata": {
    "collapsed": false
   }
  },
  {
   "cell_type": "code",
   "execution_count": 45,
   "outputs": [],
   "source": [
    "import db\n",
    "code = \"000001\"\n",
    "data = ak.stock_zh_a_hist(symbol=code,period=\"daily\",start_date=\"20221120\",end_date=\"20231119\",adjust=\"\")\n",
    "data = data.rename(columns={\n",
    "    '日期': 'date',\n",
    "    '开盘': 'open_price',\n",
    "    '收盘': 'close_price',\n",
    "    '最高': 'high_price',\n",
    "    '最低': 'low_price',\n",
    "    '成交量': 'volume',\n",
    "    '成交额': 'turnover',\n",
    "    '振幅': 'amplitude',\n",
    "    '涨跌幅': 'price_change_pct',\n",
    "    '涨跌额': 'price_change_amt',\n",
    "    '换手率': 'turnover_rate'\n",
    "})\n",
    "data['stock_id']=code\n",
    "db.pd2sql(data,\"stock_hist\")\n"
   ],
   "metadata": {
    "collapsed": false
   }
  },
  {
   "cell_type": "code",
   "execution_count": 8,
   "outputs": [
    {
     "name": "stderr",
     "output_type": "stream",
     "text": [
      "                                               \r"
     ]
    },
    {
     "data": {
      "text/plain": "       symbol  name  ticktime  price  volume  prev_price kind\n0    sz000001  平安银行  09:25:00  10.09  735300        0.00    U\n1    sz000001  平安银行  09:30:00  10.09   51900       10.09    U\n2    sz000001  平安银行  09:30:03  10.09  197800       10.09    U\n3    sz000001  平安银行  09:30:06  10.08   88900       10.09    D\n4    sz000001  平安银行  09:30:09  10.08  230500       10.08    D\n..        ...   ...       ...    ...     ...         ...  ...\n717  sz000001  平安银行  14:17:09  10.00   76000       10.00    U\n718  sz000001  平安银行  14:17:27  10.00   73700       10.00    D\n719  sz000001  平安银行  14:17:42  10.00   22800        9.99    U\n720  sz000001  平安银行  14:19:18  10.00   34400       10.00    D\n721  sz000001  平安银行  14:19:54  10.01   47200       10.01    U\n\n[722 rows x 7 columns]",
      "text/html": "<div>\n<style scoped>\n    .dataframe tbody tr th:only-of-type {\n        vertical-align: middle;\n    }\n\n    .dataframe tbody tr th {\n        vertical-align: top;\n    }\n\n    .dataframe thead th {\n        text-align: right;\n    }\n</style>\n<table border=\"1\" class=\"dataframe\">\n  <thead>\n    <tr style=\"text-align: right;\">\n      <th></th>\n      <th>symbol</th>\n      <th>name</th>\n      <th>ticktime</th>\n      <th>price</th>\n      <th>volume</th>\n      <th>prev_price</th>\n      <th>kind</th>\n    </tr>\n  </thead>\n  <tbody>\n    <tr>\n      <th>0</th>\n      <td>sz000001</td>\n      <td>平安银行</td>\n      <td>09:25:00</td>\n      <td>10.09</td>\n      <td>735300</td>\n      <td>0.00</td>\n      <td>U</td>\n    </tr>\n    <tr>\n      <th>1</th>\n      <td>sz000001</td>\n      <td>平安银行</td>\n      <td>09:30:00</td>\n      <td>10.09</td>\n      <td>51900</td>\n      <td>10.09</td>\n      <td>U</td>\n    </tr>\n    <tr>\n      <th>2</th>\n      <td>sz000001</td>\n      <td>平安银行</td>\n      <td>09:30:03</td>\n      <td>10.09</td>\n      <td>197800</td>\n      <td>10.09</td>\n      <td>U</td>\n    </tr>\n    <tr>\n      <th>3</th>\n      <td>sz000001</td>\n      <td>平安银行</td>\n      <td>09:30:06</td>\n      <td>10.08</td>\n      <td>88900</td>\n      <td>10.09</td>\n      <td>D</td>\n    </tr>\n    <tr>\n      <th>4</th>\n      <td>sz000001</td>\n      <td>平安银行</td>\n      <td>09:30:09</td>\n      <td>10.08</td>\n      <td>230500</td>\n      <td>10.08</td>\n      <td>D</td>\n    </tr>\n    <tr>\n      <th>...</th>\n      <td>...</td>\n      <td>...</td>\n      <td>...</td>\n      <td>...</td>\n      <td>...</td>\n      <td>...</td>\n      <td>...</td>\n    </tr>\n    <tr>\n      <th>717</th>\n      <td>sz000001</td>\n      <td>平安银行</td>\n      <td>14:17:09</td>\n      <td>10.00</td>\n      <td>76000</td>\n      <td>10.00</td>\n      <td>U</td>\n    </tr>\n    <tr>\n      <th>718</th>\n      <td>sz000001</td>\n      <td>平安银行</td>\n      <td>14:17:27</td>\n      <td>10.00</td>\n      <td>73700</td>\n      <td>10.00</td>\n      <td>D</td>\n    </tr>\n    <tr>\n      <th>719</th>\n      <td>sz000001</td>\n      <td>平安银行</td>\n      <td>14:17:42</td>\n      <td>10.00</td>\n      <td>22800</td>\n      <td>9.99</td>\n      <td>U</td>\n    </tr>\n    <tr>\n      <th>720</th>\n      <td>sz000001</td>\n      <td>平安银行</td>\n      <td>14:19:18</td>\n      <td>10.00</td>\n      <td>34400</td>\n      <td>10.00</td>\n      <td>D</td>\n    </tr>\n    <tr>\n      <th>721</th>\n      <td>sz000001</td>\n      <td>平安银行</td>\n      <td>14:19:54</td>\n      <td>10.01</td>\n      <td>47200</td>\n      <td>10.01</td>\n      <td>U</td>\n    </tr>\n  </tbody>\n</table>\n<p>722 rows × 7 columns</p>\n</div>"
     },
     "execution_count": 8,
     "metadata": {},
     "output_type": "execute_result"
    }
   ],
   "source": [
    "import akshare as ak\n",
    "stock_intraday_sina_df = ak.stock_intraday_sina(symbol=\"sz000001\", date=\"20231127\")\n",
    "stock_intraday_sina_df\n"
   ],
   "metadata": {
    "collapsed": false,
    "ExecuteTime": {
     "end_time": "2023-11-26T23:07:33.146908Z",
     "start_time": "2023-11-26T23:07:22.354790Z"
    }
   }
  },
  {
   "cell_type": "code",
   "execution_count": null,
   "outputs": [],
   "source": [],
   "metadata": {
    "collapsed": false
   }
  },
  {
   "cell_type": "code",
   "execution_count": 25,
   "outputs": [
    {
     "name": "stdout",
     "output_type": "stream",
     "text": [
      "                      时间   开盘     收盘     最高     最低    成交量         成交额     最新价\n",
      "0    2023-11-22 09:30:00  0.0  10.26  10.26  10.26   3528   3619728.0  10.260\n",
      "1    2023-11-22 09:31:00  0.0  10.26  10.27  10.24  12808  13141486.0  10.260\n",
      "2    2023-11-22 09:32:00  0.0  10.26  10.27  10.26   2826   2900229.0  10.260\n",
      "3    2023-11-22 09:33:00  0.0  10.26  10.27  10.25   2887   2962150.0  10.260\n",
      "4    2023-11-22 09:34:00  0.0  10.26  10.27  10.26   5017   5148385.0  10.261\n",
      "..                   ...  ...    ...    ...    ...    ...         ...     ...\n",
      "959  2023-11-27 14:56:00  0.0  10.02  10.02  10.01   1398   1400295.0  10.001\n",
      "960  2023-11-27 14:57:00  0.0  10.02  10.02  10.01   3765   3772007.0  10.001\n",
      "961  2023-11-27 14:58:00  0.0  10.01  10.01  10.01     42     42042.0  10.001\n",
      "962  2023-11-27 14:59:00  0.0  10.01  10.01  10.01      0         0.0  10.001\n",
      "963  2023-11-27 15:00:00  0.0  10.01  10.01  10.01   4445   4449695.0  10.001\n",
      "\n",
      "[964 rows x 8 columns]\n"
     ]
    }
   ],
   "source": [
    "import akshare as ak\n",
    "\n",
    "import akshare as ak\n",
    "\n",
    "# 注意：该接口返回的数据只有最近一个交易日的有开盘价，其他日期开盘价为 0\n",
    "stock_zh_a_hist_min_em_df = ak.stock_zh_a_hist_min_em(symbol=\"000001\", period='1', adjust='')\n",
    "print(stock_zh_a_hist_min_em_df)\n"
   ],
   "metadata": {
    "collapsed": false
   }
  },
  {
   "cell_type": "code",
   "execution_count": 28,
   "outputs": [
    {
     "name": "stdout",
     "output_type": "stream",
     "text": [
      "     stock_name stock_id  open_price  close_price  high_price  low_price  \\\n",
      "0          N思泰克   301568         NaN        70.00         NaN        NaN   \n",
      "1          三祥科技   831195         NaN        19.90         NaN        NaN   \n",
      "2          驰诚股份   834407         NaN        15.37         NaN        NaN   \n",
      "3          大地电气   870436         NaN        10.50         NaN        NaN   \n",
      "4          威贸电子   833346         NaN        12.90         NaN        NaN   \n",
      "...         ...      ...         ...          ...         ...        ...   \n",
      "5550       开勒股份   301070         NaN        36.20         NaN        NaN   \n",
      "5551       万德股份   836419         NaN         9.25         NaN        NaN   \n",
      "5552       纬达光电   873001         NaN         7.12         NaN        NaN   \n",
      "5553       欧康医药   833230         NaN        10.00         NaN        NaN   \n",
      "5554       峆一药业   430478         NaN        24.10         NaN        NaN   \n",
      "\n",
      "      volume  turnover  amplitude  price_change_pct  price_change_amt  \\\n",
      "0        NaN       NaN        0.0            201.33             46.77   \n",
      "1        NaN       NaN        0.0             29.98              4.59   \n",
      "2        NaN       NaN        0.0             29.92              3.54   \n",
      "3        NaN       NaN        0.0             17.06              1.53   \n",
      "4        NaN       NaN        0.0             13.06              1.49   \n",
      "...      ...       ...        ...               ...               ...   \n",
      "5550     NaN       NaN        0.0            -19.36             -8.69   \n",
      "5551     NaN       NaN        0.0            -19.64             -2.26   \n",
      "5552     NaN       NaN        0.0            -25.83             -2.48   \n",
      "5553     NaN       NaN        0.0            -27.75             -3.84   \n",
      "5554     NaN       NaN        0.0            -29.66            -10.16   \n",
      "\n",
      "      turnover_rate      date   time  \n",
      "0               0.0  20231128  09:21  \n",
      "1               0.0  20231128  09:21  \n",
      "2               0.0  20231128  09:21  \n",
      "3               0.0  20231128  09:21  \n",
      "4               0.0  20231128  09:21  \n",
      "...             ...       ...    ...  \n",
      "5550            0.0  20231128  09:21  \n",
      "5551            0.0  20231128  09:21  \n",
      "5552            0.0  20231128  09:21  \n",
      "5553            0.0  20231128  09:21  \n",
      "5554            0.0  20231128  09:21  \n",
      "\n",
      "[5555 rows x 14 columns]\n"
     ]
    }
   ],
   "source": [
    "import akshare as ak\n",
    "from datetime import datetime\n",
    "now = datetime.now()\n",
    "stock_zh_a_spot_em_df = ak.stock_zh_a_spot_em()\n",
    "stock_zh_a_spot_em_df = stock_zh_a_spot_em_df.rename(columns={\n",
    "            '名称': 'stock_name',\n",
    "            '代码': 'stock_id',\n",
    "            '今开': 'open_price',\n",
    "            '最新价': 'close_price',\n",
    "            '最高': 'high_price',\n",
    "            '最低': 'low_price',\n",
    "            '成交量': 'volume',\n",
    "            '成交额': 'turnover',\n",
    "            '振幅': 'amplitude',\n",
    "            '涨跌幅': 'price_change_pct',\n",
    "            '涨跌额': 'price_change_amt',\n",
    "            '换手率': 'turnover_rate'\n",
    "        })\n",
    "stock_zh_a_spot_em_df = stock_zh_a_spot_em_df.filter([\n",
    "    'stock_name',\n",
    "    'stock_id',\n",
    "    'open_price',\n",
    "    'close_price',\n",
    "    'high_price',\n",
    "    'low_price',\n",
    "    'volume',\n",
    "    'turnover',\n",
    "    'amplitude',\n",
    "    'price_change_pct',\n",
    "    'price_change_amt',\n",
    "    'turnover_rate'\n",
    "])\n",
    "date_str = now.strftime('%Y%m%d')  # 日期，格式为“年月日”\n",
    "time_str = now.strftime('%H:%M')  # 时间，精确到分钟\n",
    "stock_zh_a_spot_em_df['date'] = date_str\n",
    "stock_zh_a_spot_em_df['time'] = time_str\n",
    "print(stock_zh_a_spot_em_df)\n"
   ],
   "metadata": {
    "collapsed": false
   }
  },
  {
   "cell_type": "code",
   "execution_count": 18,
   "outputs": [
    {
     "data": {
      "text/plain": "         date  open_price  close_price  high_price  low_price  volume  \\\n0  2023-11-27       10.09        10.01       10.09       9.97  836188   \n\n       turnover  amplitude  price_change_pct  price_change_amt  turnover_rate  \\\n0  8.362684e+08       1.19             -0.89             -0.09           0.43   \n\n  stock_id  \n0   000001  ",
      "text/html": "<div>\n<style scoped>\n    .dataframe tbody tr th:only-of-type {\n        vertical-align: middle;\n    }\n\n    .dataframe tbody tr th {\n        vertical-align: top;\n    }\n\n    .dataframe thead th {\n        text-align: right;\n    }\n</style>\n<table border=\"1\" class=\"dataframe\">\n  <thead>\n    <tr style=\"text-align: right;\">\n      <th></th>\n      <th>date</th>\n      <th>open_price</th>\n      <th>close_price</th>\n      <th>high_price</th>\n      <th>low_price</th>\n      <th>volume</th>\n      <th>turnover</th>\n      <th>amplitude</th>\n      <th>price_change_pct</th>\n      <th>price_change_amt</th>\n      <th>turnover_rate</th>\n      <th>stock_id</th>\n    </tr>\n  </thead>\n  <tbody>\n    <tr>\n      <th>0</th>\n      <td>2023-11-27</td>\n      <td>10.09</td>\n      <td>10.01</td>\n      <td>10.09</td>\n      <td>9.97</td>\n      <td>836188</td>\n      <td>8.362684e+08</td>\n      <td>1.19</td>\n      <td>-0.89</td>\n      <td>-0.09</td>\n      <td>0.43</td>\n      <td>000001</td>\n    </tr>\n  </tbody>\n</table>\n</div>"
     },
     "execution_count": 18,
     "metadata": {},
     "output_type": "execute_result"
    }
   ],
   "source": [
    "from datetime import timedelta,datetime\n",
    "end_date = datetime.now().strftime(\"%Y%m%d\")\n",
    "start_date = (datetime.now() - timedelta(days=1)).strftime(\"%Y%m%d\")\n",
    "data = ak.stock_zh_a_hist(symbol=\"000001\",period='daily',start_date=start_date,end_date=end_date,adjust=\"\")\n",
    "data = data.rename(columns={\n",
    "    '日期': 'date',\n",
    "    '开盘': 'open_price',\n",
    "    '收盘': 'close_price',\n",
    "    '最高': 'high_price',\n",
    "    '最低': 'low_price',\n",
    "    '成交量': 'volume',\n",
    "    '成交额': 'turnover',\n",
    "    '振幅': 'amplitude',\n",
    "    '涨跌幅': 'price_change_pct',\n",
    "    '涨跌额': 'price_change_amt',\n",
    "    '换手率': 'turnover_rate'\n",
    "})\n",
    "data['stock_id']=\"000001\"\n",
    "data\n"
   ],
   "metadata": {
    "collapsed": false
   }
  },
  {
   "cell_type": "code",
   "execution_count": 31,
   "outputs": [
    {
     "ename": "AttributeError",
     "evalue": "'datetime.datetime' object has no attribute 'dt'",
     "output_type": "error",
     "traceback": [
      "\u001B[0;31m---------------------------------------------------------------------------\u001B[0m",
      "\u001B[0;31mAttributeError\u001B[0m                            Traceback (most recent call last)",
      "Cell \u001B[0;32mIn[31], line 2\u001B[0m\n\u001B[1;32m      1\u001B[0m \u001B[38;5;28;01mfrom\u001B[39;00m \u001B[38;5;21;01mdatetime\u001B[39;00m \u001B[38;5;28;01mimport\u001B[39;00m datetime\n\u001B[0;32m----> 2\u001B[0m now \u001B[38;5;241m=\u001B[39m \u001B[43mdatetime\u001B[49m\u001B[38;5;241;43m.\u001B[39;49m\u001B[43mnow\u001B[49m\u001B[43m(\u001B[49m\u001B[43m)\u001B[49m\u001B[38;5;241;43m.\u001B[39;49m\u001B[43mdt\u001B[49m\n\u001B[1;32m      3\u001B[0m now\n",
      "\u001B[0;31mAttributeError\u001B[0m: 'datetime.datetime' object has no attribute 'dt'"
     ]
    }
   ],
   "source": [
    "from datetime import datetime\n",
    "now = datetime.now()\n",
    "now\n"
   ],
   "metadata": {
    "collapsed": false
   }
  }
 ],
 "metadata": {
  "kernelspec": {
   "display_name": "Python 3",
   "language": "python",
   "name": "python3"
  },
  "language_info": {
   "codemirror_mode": {
    "name": "ipython",
    "version": 2
   },
   "file_extension": ".py",
   "mimetype": "text/x-python",
   "name": "python",
   "nbconvert_exporter": "python",
   "pygments_lexer": "ipython2",
   "version": "2.7.6"
  }
 },
 "nbformat": 4,
 "nbformat_minor": 0
}
