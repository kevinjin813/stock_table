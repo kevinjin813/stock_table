{
 "cells": [
  {
   "cell_type": "code",
   "execution_count": 8,
   "metadata": {
    "collapsed": true,
    "pycharm": {
     "name": "#%%\n"
    }
   },
   "outputs": [],
   "source": [
    "import akshare as ak\n",
    "import pandas as pd\n",
    "from sqlalchemy import create_engine\n",
    "from datetime import datetime\n",
    "\n",
    "import db\n",
    "\n",
    "# code_list = ak.stock_info_a_code_name()\n",
    "df = pd.DataFrame(columns=['total_val', 'stock_id', 'category', 'stock_name'])\n",
    "# print(code_list['code'][0])\n",
    "stock_individual_info_em_df = ak.stock_individual_info_em(symbol=\"000001\")\n",
    "df_transposed = stock_individual_info_em_df.set_index('item').T.reset_index()\n",
    "df_transposed = df_transposed.rename(columns={\n",
    "    '总市值': 'total_val',\n",
    "    '行业': 'category',\n",
    "    '股票代码': 'stock_id',\n",
    "    '股票简称': 'stock_name'\n",
    "})\n",
    "\n",
    "df = pd.concat([df, df_transposed[['total_val', 'stock_id', 'category', 'stock_name']]], ignore_index=True)\n",
    "\n",
    "\n",
    "db_username = 'root'\n",
    "db_password = 'qwertyui'\n",
    "db_host = 'localhost'  # 或者其他主机地址\n",
    "db_port = '3306'\n",
    "db_name = 'schemas'\n",
    "table_name = 'stock_info'  # 要创建或写入的表的名称\n",
    "\n",
    "# 创建数据库引擎\n",
    "engine = create_engine(f'mysql+pymysql://{db_username}:{db_password}@{db_host}:{db_port}/{db_name}')\n",
    "\n",
    "# 将数据写入 MySQL\n",
    "df.to_sql(table_name, engine, if_exists='replace', index=False)\n",
    "\n",
    "# 关闭数据库连接\n",
    "engine.dispose()"
   ]
  },
  {
   "cell_type": "code",
   "execution_count": 7,
   "outputs": [
    {
     "name": "stdout",
     "output_type": "stream",
     "text": [
      "                       时间    开盘     收盘     最高     最低    成交量         成交额  \\\n",
      "0     2023-11-20 09:30:00   0.0  10.15  10.15  10.15   7628   7742420.0   \n",
      "1     2023-11-20 09:31:00   0.0  10.14  10.18  10.14  17726  18002691.0   \n",
      "2     2023-11-20 09:32:00   0.0  10.15  10.16  10.14   7517   7624925.0   \n",
      "3     2023-11-20 09:33:00   0.0  10.13  10.15  10.13   6391   6480819.0   \n",
      "4     2023-11-20 09:34:00   0.0  10.14  10.14  10.13   5254   5323795.0   \n",
      "...                   ...   ...    ...    ...    ...    ...         ...   \n",
      "1200  2023-11-24 14:56:00  10.1  10.10  10.11  10.10   4852   4900930.0   \n",
      "1201  2023-11-24 14:57:00  10.1  10.11  10.11  10.10   2884   2913855.0   \n",
      "1202  2023-11-24 14:58:00  10.1  10.10  10.10  10.10    900    909000.0   \n",
      "1203  2023-11-24 14:59:00  10.1  10.10  10.10  10.10      0         0.0   \n",
      "1204  2023-11-24 15:00:00  10.1  10.10  10.10  10.10   8781   8868810.0   \n",
      "\n",
      "         最新价  \n",
      "0     10.150  \n",
      "1     10.154  \n",
      "2     10.152  \n",
      "3     10.150  \n",
      "4     10.148  \n",
      "...      ...  \n",
      "1200  10.098  \n",
      "1201  10.098  \n",
      "1202  10.098  \n",
      "1203  10.098  \n",
      "1204  10.098  \n",
      "\n",
      "[1205 rows x 8 columns]\n"
     ]
    }
   ],
   "source": [
    "import akshare as ak\n",
    "stock_zh_a_hist_min_em_df = ak.stock_zh_a_hist_min_em(symbol=\"000001\", start_date=\"2022-11-24 09:30:00\", end_date=\"2023-11-25 09:30:00\", period='1', adjust='')\n",
    "print(stock_zh_a_hist_min_em_df)"
   ],
   "metadata": {
    "collapsed": false,
    "pycharm": {
     "name": "#%%\n"
    }
   }
  },
  {
   "cell_type": "code",
   "execution_count": 39,
   "outputs": [
    {
     "ename": "SyntaxError",
     "evalue": "positional argument follows keyword argument (331269335.py, line 40)",
     "output_type": "error",
     "traceback": [
      "\u001B[0;36m  Cell \u001B[0;32mIn[39], line 40\u001B[0;36m\u001B[0m\n\u001B[0;31m    new_data = StockBid(stock_id=row['stock_id'], ...)\u001B[0m\n\u001B[0m                                                     ^\u001B[0m\n\u001B[0;31mSyntaxError\u001B[0m\u001B[0;31m:\u001B[0m positional argument follows keyword argument\n"
     ]
    }
   ],
   "source": [
    "import pandas as pd\n",
    "import pymysql\n",
    "from datetime import datetime\n",
    "from sqlalchemy.ext.declarative import declarative_base\n",
    "from sqlalchemy.orm import sessionmaker\n",
    "import akshare as ak\n",
    "\n",
    "# 获取数据\n",
    "data = ak.stock_bid_ask_em(symbol=\"000001\")\n",
    "data_transposed = data.set_index('item').T.reset_index()\n",
    "data_transposed['stock_id'] = \"000001\"\n",
    "data_transposed['time'] = datetime.now().timestamp()\n",
    "data_transposed.drop(columns='index', inplace=True)\n",
    "\n",
    "# 数据库配置\n",
    "db_username = 'root'\n",
    "db_password = 'qwertyui'\n",
    "db_host = 'localhost'\n",
    "db_port = '3306'\n",
    "db_name = 'schemas'\n",
    "table_name = 'stock_bid'\n",
    "\n",
    "# 创建数据库连接\n",
    "engine = create_engine(f'mysql+pymysql://{db_username}:{db_password}@{db_host}:{db_port}/{db_name}')\n",
    "\n",
    "# 创建会话\n",
    "Session = sessionmaker(bind=engine)\n",
    "session = Session()\n",
    "\n",
    "# 获取数据并处理\n",
    "data = ak.stock_bid_ask_em(symbol=\"000001\")\n",
    "data_transposed = data.set_index('item').T.reset_index()\n",
    "data_transposed['stock_id'] = \"000001\"\n",
    "data_transposed['time'] = datetime.now().timestamp()\n",
    "data_transposed.drop(columns='index', inplace=True)\n",
    "\n",
    "# 执行删除和插入操作\n",
    "for index, row in data_transposed.iterrows():\n",
    "    # 查询是否存在\n",
    "    existing_data = session.query(StockBid).filter_by(stock_id=row['stock_id']).first()\n",
    "    if existing_data:\n",
    "        session.delete(existing_data)\n",
    "    new_data = StockBid(stock_id=row['stock_id'], ...)\n",
    "    session.add(new_data)\n",
    "\n",
    "session.commit()\n",
    "session.close()"
   ],
   "metadata": {
    "collapsed": false,
    "pycharm": {
     "name": "#%%\n"
    }
   }
  },
  {
   "cell_type": "code",
   "execution_count": 41,
   "outputs": [
    {
     "name": "stdout",
     "output_type": "stream",
     "text": [
      "           日期     开盘     收盘     最高     最低    成交量          成交额    振幅   涨跌幅  \\\n",
      "0  2023-11-20  13.63  13.62  13.70  13.49  20731  28155062.00  1.54  0.07   \n",
      "1  2023-11-21  13.62  13.64  13.80  13.60  23623  32355003.24  1.47  0.15   \n",
      "2  2023-11-22  13.59  13.51  13.73  13.50  21763  29578591.88  1.69 -0.95   \n",
      "3  2023-11-23  13.46  13.61  13.64  13.46  19327  26248644.60  1.33  0.74   \n",
      "4  2023-11-24  13.61  13.49  13.64  13.44  18765  25341356.35  1.47 -0.88   \n",
      "\n",
      "    涨跌额   换手率  \n",
      "0  0.01  0.53  \n",
      "1  0.02  0.61  \n",
      "2 -0.13  0.56  \n",
      "3  0.10  0.50  \n",
      "4 -0.12  0.48  \n"
     ]
    }
   ],
   "source": [
    "stock_zh_a_hist_df = ak.stock_zh_a_hist(symbol=\"002838\", period=\"daily\", start_date=\"20231120\", end_date='20231124', adjust=\"\")\n",
    "print(stock_zh_a_hist_df)"
   ],
   "metadata": {
    "collapsed": false,
    "pycharm": {
     "name": "#%%\n"
    }
   }
  },
  {
   "cell_type": "code",
   "execution_count": 17,
   "outputs": [
    {
     "name": "stderr",
     "output_type": "stream",
     "text": [
      "Exception in thread Thread-32:\n",
      "Traceback (most recent call last):\n",
      "  File \"/Library/Frameworks/Python.framework/Versions/3.9/lib/python3.9/threading.py\", line 954, in _bootstrap_inner\n",
      "Exception in thread Thread-31:\n",
      "Traceback (most recent call last):\n",
      "  File \"/Library/Frameworks/Python.framework/Versions/3.9/lib/python3.9/threading.py\", line 954, in _bootstrap_inner\n",
      "    self.run()\n",
      "  File \"/Library/Frameworks/Python.framework/Versions/3.9/lib/python3.9/threading.py\", line 892, in run\n",
      "    self.run()\n",
      "  File \"/Library/Frameworks/Python.framework/Versions/3.9/lib/python3.9/threading.py\", line 892, in run\n",
      "    self._target(*self._args, **self._kwargs)\n",
      "  File \"/Users/mac/Downloads/myflask/db.py\", line 73, in get_min_data\n",
      "    with lock:\n",
      "NameError: name 'engine' is not defined\n",
      "    self._target(*self._args, **self._kwargs)\n",
      "  File \"/Users/mac/Downloads/myflask/db.py\", line 73, in get_min_data\n",
      "    with lock:\n",
      "NameError: name 'engine' is not defined\n",
      "Exception in thread Thread-30:\n",
      "Traceback (most recent call last):\n",
      "  File \"/Library/Frameworks/Python.framework/Versions/3.9/lib/python3.9/threading.py\", line 954, in _bootstrap_inner\n",
      "    self.run()\n",
      "  File \"/Library/Frameworks/Python.framework/Versions/3.9/lib/python3.9/threading.py\", line 892, in run\n",
      "    self._target(*self._args, **self._kwargs)\n",
      "  File \"/Users/mac/Downloads/myflask/db.py\", line 73, in get_min_data\n",
      "    with lock:\n",
      "NameError: name 'engine' is not defined\n",
      "Exception in thread Thread-29:\n",
      "Traceback (most recent call last):\n",
      "  File \"/Library/Frameworks/Python.framework/Versions/3.9/lib/python3.9/threading.py\", line 954, in _bootstrap_inner\n",
      "    self.run()\n",
      "  File \"/Library/Frameworks/Python.framework/Versions/3.9/lib/python3.9/threading.py\", line 892, in run\n",
      "    self._target(*self._args, **self._kwargs)\n",
      "  File \"/Users/mac/Downloads/myflask/db.py\", line 73, in get_min_data\n",
      "    with lock:\n",
      "NameError: name 'engine' is not defined\n"
     ]
    }
   ],
   "source": [
    "import db\n",
    "db.fetch_min_data()"
   ],
   "metadata": {
    "collapsed": false,
    "pycharm": {
     "name": "#%%\n"
    }
   }
  },
  {
   "cell_type": "code",
   "execution_count": null,
   "outputs": [],
   "source": [
    "import akshare as ak\n",
    "import pandas as pd\n",
    "import threading\n",
    "from sqlalchemy import create_engine\n",
    "from datetime import datetime, timedelta\n",
    "db_username = 'root'\n",
    "db_password = 'qwertyui'\n",
    "db_host = 'localhost'\n",
    "db_port = '3306'\n",
    "db_name = 'schemas'\n",
    "table_name = 'stock_info'\n",
    "\n",
    "# 创建数据库引擎\n",
    "engine = create_engine(f'mysql+pymysql://{db_username}:{db_password}@{db_host}:{db_port}/{db_name}')\n",
    "\n",
    "sql = f\"SELECT * FROM {table_name}\"\n",
    "\n",
    "\n",
    "lock = threading.Lock()\n",
    "monitor = 0\n"
   ],
   "metadata": {
    "collapsed": false,
    "pycharm": {
     "name": "#%%\n"
    }
   }
  },
  {
   "cell_type": "code",
   "execution_count": 45,
   "outputs": [],
   "source": [
    "import db\n",
    "code = \"000001\"\n",
    "data = ak.stock_zh_a_hist(symbol=code,period=\"daily\",start_date=\"20221120\",end_date=\"20231119\",adjust=\"\")\n",
    "data = data.rename(columns={\n",
    "    '日期': 'date',\n",
    "    '开盘': 'open_price',\n",
    "    '收盘': 'close_price',\n",
    "    '最高': 'high_price',\n",
    "    '最低': 'low_price',\n",
    "    '成交量': 'volume',\n",
    "    '成交额': 'turnover',\n",
    "    '振幅': 'amplitude',\n",
    "    '涨跌幅': 'price_change_pct',\n",
    "    '涨跌额': 'price_change_amt',\n",
    "    '换手率': 'turnover_rate'\n",
    "})\n",
    "data['stock_id']=code\n",
    "db.pd2sql(data,\"stock_hist\")\n"
   ],
   "metadata": {
    "collapsed": false,
    "pycharm": {
     "name": "#%%\n"
    }
   }
  }
 ],
 "metadata": {
  "kernelspec": {
   "display_name": "Python 3",
   "language": "python",
   "name": "python3"
  },
  "language_info": {
   "codemirror_mode": {
    "name": "ipython",
    "version": 2
   },
   "file_extension": ".py",
   "mimetype": "text/x-python",
   "name": "python",
   "nbconvert_exporter": "python",
   "pygments_lexer": "ipython2",
   "version": "2.7.6"
  }
 },
 "nbformat": 4,
 "nbformat_minor": 0
}